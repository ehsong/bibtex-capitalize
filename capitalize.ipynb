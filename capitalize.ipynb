{
 "cells": [
  {
   "cell_type": "markdown",
   "metadata": {},
   "source": [
    "### Import packages"
   ]
  },
  {
   "cell_type": "markdown",
   "metadata": {},
   "source": [
    "First, import packages. If you haven't installed titlecase, then try pip or pip3 titlecase (provided that you installed Python3)."
   ]
  },
  {
   "cell_type": "code",
   "execution_count": 1,
   "metadata": {},
   "outputs": [],
   "source": [
    "import re\n",
    "from titlecase import titlecase"
   ]
  },
  {
   "cell_type": "markdown",
   "metadata": {},
   "source": [
    "### Load files \n",
    "\n",
    "Redefine the file path so that it fits your case. "
   ]
  },
  {
   "cell_type": "code",
   "execution_count": 2,
   "metadata": {},
   "outputs": [],
   "source": [
    "# Set path and name of bib files\n",
    "\n",
    "directory = '/home/jae/opportunity_over_threat/'\n",
    "my_file = 'bib.bib'\n",
    "new_file = 'new_bibfile.bib' # in case you don't want to overwrite"
   ]
  },
  {
   "cell_type": "markdown",
   "metadata": {},
   "source": [
    "### Create functions\n",
    "\n",
    "I modified [Greenwald's code](http://www.dlgreenwald.com/misc) so that I can change multiple entries (e.g., title and journal) at the same time. I am grateful to his nice code."
   ]
  },
  {
   "cell_type": "code",
   "execution_count": 7,
   "metadata": {},
   "outputs": [],
   "source": [
    "def entry_match(my_file, new_file):\n",
    "\n",
    "    # Read in old file\n",
    "    with open(directory + my_file, 'r') as fid:\n",
    "        lines = fid.readlines()\n",
    "\n",
    "    # Search for title strings and replace with titlecase\n",
    "    newlines = []\n",
    "    \n",
    "    for line in lines:\n",
    "        # Check if line contains title\n",
    "       \n",
    "        # Match title segment\n",
    "        pattern = re.compile(r'^\tTitle = \{(.*)\},\n$')\n",
    "        \n",
    "        match_obj = pattern.match(line)\n",
    "        if match_obj is not None:\n",
    "            # Need to \"escape\" any special chars to avoid misinterpreting them in the regular expression.\n",
    "            oldtitle = re.escape(match_obj.group(1))\n",
    "\n",
    "            # Apply titlecase to get the correct title.\n",
    "            newtitle = titlecase(match_obj.group(1))\n",
    "\n",
    "            # Replace and add to list\n",
    "            p_title = re.compile(oldtitle)\n",
    "            newline = p_title.sub(newtitle, line)\n",
    "            newlines.append(newline)\n",
    "        else:\n",
    "            # If not title, add as is.\n",
    "            newlines.append(line)\n",
    "    \n",
    "    # Assign newlines to updated_file \n",
    "    updated_lines = newlines \n",
    "        \n",
    "    # Match title segment\n",
    "    pattern = re.compile(r'^\tJournal = \{(.*)\},\n$",
    "\n",
    "    # Search for title strings and replace with titlecase\n",
    "    newlines = []\n",
    "    \n",
    "    for line in updated_lines:\n",
    "        # Check if line contains title\n",
    "        match_obj = pattern.match(line)\n",
    "        if match_obj is not None:\n",
    "            # Need to \"escape\" any special chars to avoid misinterpreting them in the regular expression.\n",
    "            oldtitle = re.escape(match_obj.group(1))\n",
    "\n",
    "            # Apply titlecase to get the correct title.\n",
    "            newtitle = titlecase(match_obj.group(1))\n",
    "\n",
    "            # Replace and add to list\n",
    "            p_title = re.compile(oldtitle)\n",
    "            newline = p_title.sub(newtitle, line)\n",
    "            newlines.append(newline)\n",
    "        else:\n",
    "            # If not title, add as is.\n",
    "            newlines.append(line)\n",
    "\n",
    "    # Print output in the console \n",
    "    print(\"\\n\".join(newlines[1:10]))\n",
    "    \n",
    "    # Print output to new file\n",
    "    with open (directory + new_file, 'w') as fid:\n",
    "        fid.writelines(newlines)"
   ]
  },
  {
   "cell_type": "markdown",
   "metadata": {},
   "source": [
    "### Run the script "
   ]
  },
  {
   "cell_type": "code",
   "execution_count": 8,
   "metadata": {},
   "outputs": [
    {
     "name": "stdout",
     "output_type": "stream",
     "text": [
      "  title={Panethnicity},\n",
      "\n",
      "  author={Okamoto, Dina and Mora, G Cristina},\n",
      "\n",
      "  journal={Annual Review of Sociology},\n",
      "\n",
      "  volume={40},\n",
      "\n"
     ]
    }
   ],
   "source": [
    "entry_match(my_file, new_file)"
   ]
  }
 ],
 "metadata": {
  "kernelspec": {
   "display_name": "Python 3",
   "language": "python",
   "name": "python3"
  },
  "language_info": {
   "codemirror_mode": {
    "name": "ipython",
    "version": 3
   },
   "file_extension": ".py",
   "mimetype": "text/x-python",
   "name": "python",
   "nbconvert_exporter": "python",
   "pygments_lexer": "ipython3",
   "version": "3.6.6"
  }
 },
 "nbformat": 4,
 "nbformat_minor": 2
}
